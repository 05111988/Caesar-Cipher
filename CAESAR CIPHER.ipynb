{
 "cells": [
  {
   "cell_type": "code",
   "execution_count": 1,
   "id": "f180eed7-ee49-4f98-9f2e-15df79739dcd",
   "metadata": {},
   "outputs": [
    {
     "name": "stdout",
     "output_type": "stream",
     "text": [
      "Welcome\n",
      "How are you?\n",
      "Would you like some tea or coffee?\n"
     ]
    }
   ],
   "source": [
    "# Function\n",
    "def greet():\n",
    "    print(\"Welcome\")\n",
    "    print(\"How are you?\")\n",
    "    print(\"Would you like some tea or coffee?\")\n",
    "greet()"
   ]
  },
  {
   "cell_type": "code",
   "execution_count": 6,
   "id": "ffa09b56-283a-4ffa-837c-08f901bae23c",
   "metadata": {},
   "outputs": [
    {
     "name": "stdout",
     "output_type": "stream",
     "text": [
      "welcome Laddoo\n",
      "How are you Laddoo?\n",
      "Would you like some tea or coffee Laddoo?\n"
     ]
    }
   ],
   "source": [
    "#Functions that allows for input.\n",
    "def greet_with_name(name):\n",
    "    print(f\"welcome {name}\")\n",
    "    print(f\"How are you {name}?\")\n",
    "    print(f\"Would you like some tea or coffee {name}?\")\n",
    "greet_with_name(\"Laddoo\")"
   ]
  },
  {
   "cell_type": "code",
   "execution_count": 8,
   "id": "a3cddc6e-8e7e-4c10-907a-301fd47dedff",
   "metadata": {},
   "outputs": [
    {
     "name": "stdout",
     "output_type": "stream",
     "text": [
      "You have 3692 weeks left\n"
     ]
    }
   ],
   "source": [
    "def life_in_weeks(age):\n",
    "    Years_remaining = 90 - age\n",
    "    weeks_remaining = Years_remaining * 52\n",
    "    print(f\"You have {weeks_remaining} weeks left\")\n",
    "life_in_weeks(19)"
   ]
  },
  {
   "cell_type": "code",
   "execution_count": 11,
   "id": "bba58f02-5674-4f53-ab4e-9aa8a510d8a0",
   "metadata": {},
   "outputs": [
    {
     "name": "stdout",
     "output_type": "stream",
     "text": [
      "Hello laddoo\n",
      "What is it like in delhi\n"
     ]
    }
   ],
   "source": [
    "#Functions with more than one input.\n",
    "def greet_with(name, location):\n",
    "    print(f\"Hello {name}\")\n",
    "    print(f\"What is it like in {location}\")\n",
    "greet_with(\"laddoo\", \"delhi\")"
   ]
  },
  {
   "cell_type": "code",
   "execution_count": 27,
   "id": "a8cf03a4-a4f0-4c32-a5c8-7c7fe9348140",
   "metadata": {},
   "outputs": [
    {
     "name": "stdin",
     "output_type": "stream",
     "text": [
      "Type 'encode' to encrypt, type 'decode' to decrypt:\n",
      " encode\n",
      "Type your message:\n",
      " g\n",
      "Type the shift number:\n",
      " 4\n"
     ]
    },
    {
     "name": "stdout",
     "output_type": "stream",
     "text": [
      "Here is the encoded result: k\n"
     ]
    }
   ],
   "source": [
    "#Caesar Cipher Part1 = Encryption\n",
    "alphabet = ['a', 'b', 'c', 'd', 'e', 'f', 'g', 'h', 'i', 'j', 'k','l', 'm', 'n', 'o', 'p', 'q', 'r', 's', 't', 'u', 'v', 'w', 'x', 'y','z']\n",
    "\n",
    "direction = input(\"Type 'encode' to encrypt, type 'decode' to decrypt:\\n\")\n",
    "text = input(\"Type your message:\\n\").lower()\n",
    "shift = int(input(\"Type the shift number:\\n\"))\n",
    "\n",
    "\n",
    "#TODO - 1 = Create a function called 'encrypt()' that takes 'original_text' and 'shift_amount' as 2 inputs\n",
    "#TODO - 2 = Inside the 'encrypt()' function, shift each letter of the 'original_text' forwards in the alphabet.\n",
    "# by the shift amount and print the encrypted text.\n",
    "    \n",
    "def encrypt(original_text, shift_amount):\n",
    "    cipher_text = \"\"\n",
    "    \n",
    "    for letter in original_text:\n",
    "        shifted_position = alphabet.index(letter) + shift_amount\n",
    "\n",
    "        shifted_position %= len(alphabet)\n",
    "        cipher_text = alphabet[shifted_position]\n",
    "        \n",
    "    print(f\"Here is the encoded result: {cipher_text}\")\n",
    "\n",
    " #TODO - 2 = Inside the 'encrypt()' function, shift each letter of the 'original_text' forwards in the alphabet.\n",
    " # by the shift amount and print the encrypted text.\n",
    "    \n",
    " #TODO - 4 = What happens if you try to shift z forwards by 9? can you fix the code?\n",
    "\n",
    "    \n",
    " #TODO - 3 = call the 'encrypt()' function and pass in the user inputs. You should be able to test the code and encrypt a message.\n",
    "encrypt(original_text = text, shift_amount = shift)\n"
   ]
  },
  {
   "cell_type": "code",
   "execution_count": 36,
   "id": "8b35dd44-ef7e-4ace-84ef-189f64d9caca",
   "metadata": {},
   "outputs": [
    {
     "name": "stdin",
     "output_type": "stream",
     "text": [
      "Type 'encode' to encrypt, type 'decode' to decrypt:\n",
      " decode\n",
      "Type your message:\n",
      " laddo\n",
      "Type the shift number:\n",
      " 2\n"
     ]
    },
    {
     "name": "stdout",
     "output_type": "stream",
     "text": [
      "Here is the decoded result: m\n"
     ]
    }
   ],
   "source": [
    "#Caesar Cipher Part2 = Decryption\n",
    "alphabet = ['a', 'b', 'c', 'd', 'e', 'f', 'g', 'h', 'i', 'j', 'k','l', 'm', 'n', 'o', 'p', 'q', 'r', 's', 't', 'u', 'v', 'w', 'x', 'y','z']\n",
    "\n",
    "direction = input(\"Type 'encode' to encrypt, type 'decode' to decrypt:\\n\")\n",
    "text = input(\"Type your message:\\n\").lower()\n",
    "shift = int(input(\"Type the shift number:\\n\"))\n",
    "\n",
    "\n",
    "\n",
    "\n",
    "#TODO - 1 = Create a function called 'decrypt()' that takes original_text and shift_amount as 2inputs.\n",
    "#TODO - 2 = Inside the 'decrypt()' function, shif each letter of the original_text forwards in the alphabet backwards.\n",
    "\n",
    "\n",
    "    \n",
    "#by the shift amount and print the decrypted text.\n",
    "#TODO - 3 = Combine the 'encrypt()' and 'decrypt()' functions into a single called caesar().\n",
    "def caesar(original_text, shift_amount, encode_or_decode):\n",
    "     output_text = \"\"\n",
    "     for letter in original_text:\n",
    "        if encode_or_decode == \"decode\":\n",
    "            shift_amount *= -1\n",
    "\n",
    "        \n",
    "        shifted_position = alphabet.index(letter) + shift_amount\n",
    "        shifted_position %= len(alphabet)\n",
    "        output_text = alphabet[shifted_position]\n",
    "        \n",
    "     print(f\"Here is the {encode_or_decode}d result: {output_text}\")\n",
    "caesar(original_text=text , shift_amount=shift, encode_or_decode=direction)"
   ]
  },
  {
   "cell_type": "markdown",
   "id": "cd3ab2a6-d0c0-4186-a0e5-434d5889a7d4",
   "metadata": {},
   "source": [
    "STEP - 3"
   ]
  },
  {
   "cell_type": "code",
   "execution_count": 42,
   "id": "7463306c-45e4-4db8-979b-a4a08987747b",
   "metadata": {},
   "outputs": [],
   "source": [
    "# art.py\n",
    "\n",
    "logo = r\"\"\"\n",
    "   ____                              _____ _       _             \n",
    "  / ___|__ _ _ __ ___   ___  ___    | ____| |_   _(_)_ __   __ _ \n",
    " | |   / _` | '_ ` _ \\ / _ \\/ __|   |  _| | | | | | | '_ \\ / _` |\n",
    " | |__| (_| | | | | | |  __/\\__ \\   | |___| | |_| | | | | | (_| |\n",
    "  \\____\\__,_|_| |_| |_|\\___||___/   |_____|_|\\__,_|_|_| |_|\\__, |\n",
    "                                                           |___/ \n",
    "\"\"\"\n"
   ]
  },
  {
   "cell_type": "code",
   "execution_count": 47,
   "id": "8d5e4f52-9a6b-42ba-9150-8242f208d9ad",
   "metadata": {},
   "outputs": [
    {
     "name": "stdout",
     "output_type": "stream",
     "text": [
      "\n",
      "   ____                              _____ _       _             \n",
      "  / ___|__ _ _ __ ___   ___  ___    | ____| |_   _(_)_ __   __ _ \n",
      " | |   / _` | '_ ` _ \\ / _ \\/ __|   |  _| | | | | | | '_ \\ / _` |\n",
      " | |__| (_| | | | | | |  __/\\__ \\   | |___| | |_| | | | | | (_| |\n",
      "  \\____\\__,_|_| |_| |_|\\___||___/   |_____|_|\\__,_|_|_| |_|\\__, |\n",
      "                                                           |___/ \n",
      "\n"
     ]
    },
    {
     "name": "stdin",
     "output_type": "stream",
     "text": [
      "Type 'encode' to encrypt, type 'decode' to decrypt:\n",
      " encode\n",
      "Type your message:\n",
      " ab\n",
      "Type the shift number:\n",
      " 2\n"
     ]
    },
    {
     "name": "stdout",
     "output_type": "stream",
     "text": [
      "Here is the encoded result: d\n"
     ]
    },
    {
     "name": "stdin",
     "output_type": "stream",
     "text": [
      "Type 'yes' if you want to go again. Otherwise type 'no'. yes\n",
      "Type 'encode' to encrypt, type 'decode' to decrypt:\n",
      " decode\n",
      "Type your message:\n",
      " ab\n",
      "Type the shift number:\n",
      " 2\n"
     ]
    },
    {
     "name": "stdout",
     "output_type": "stream",
     "text": [
      "Here is the decoded result: z\n"
     ]
    },
    {
     "name": "stdin",
     "output_type": "stream",
     "text": [
      "Type 'yes' if you want to go again. Otherwise type 'no'. no\n"
     ]
    },
    {
     "name": "stdout",
     "output_type": "stream",
     "text": [
      "Goodbye\n"
     ]
    }
   ],
   "source": [
    "#TODO - 1 = Import and print logo from art.py when the program starts.\n",
    "print(logo)\n",
    "\n",
    "\n",
    "alphabet = ['a', 'b', 'c', 'd', 'e', 'f', 'g', 'h', 'i', 'j', 'k','l', 'm', 'n', 'o', 'p', 'q', 'r', 's', 't', 'u', 'v', 'w', 'x', 'y','z']\n",
    "#TODO - 2 = What happens if the user enters a number/symbol or space.\n",
    "def caesar(original_text, shift_amount, encode_or_decode):\n",
    "     output_text = \"\"\n",
    "     if encode_or_decode == \"decode\":\n",
    "                shift_amount *= -1\n",
    "    \n",
    "     for letter in original_text:\n",
    "        if letter not in alphabet:\n",
    "            output_text += letter\n",
    "        else: \n",
    "            shifted_position = alphabet.index(letter) + shift_amount\n",
    "            shifted_position %= len(alphabet)\n",
    "            output_text = alphabet[shifted_position]\n",
    "        \n",
    "     print(f\"Here is the {encode_or_decode}d result: {output_text}\")\n",
    "\n",
    "\n",
    "#TODO - 3 = Can you figure out a way to restart the cipher program?\n",
    "should_continue = True\n",
    "while should_continue:\n",
    "    direction = input(\"Type 'encode' to encrypt, type 'decode' to decrypt:\\n\")\n",
    "    text = input(\"Type your message:\\n\").lower()\n",
    "    shift = int(input(\"Type the shift number:\\n\"))\n",
    "\n",
    "    caesar(original_text=text , shift_amount=shift, encode_or_decode=direction)\n",
    "\n",
    "    restart = input(\"Type 'yes' if you want to go again. Otherwise type 'no'.\").lower()\n",
    "    if restart == \"no\":\n",
    "        should_continue = False\n",
    "        print(\"Goodbye\")\n",
    "        \n"
   ]
  },
  {
   "cell_type": "code",
   "execution_count": null,
   "id": "147bd4be-185c-4b64-800c-ccc934a44526",
   "metadata": {},
   "outputs": [],
   "source": []
  }
 ],
 "metadata": {
  "kernelspec": {
   "display_name": "Python 3 (ipykernel)",
   "language": "python",
   "name": "python3"
  },
  "language_info": {
   "codemirror_mode": {
    "name": "ipython",
    "version": 3
   },
   "file_extension": ".py",
   "mimetype": "text/x-python",
   "name": "python",
   "nbconvert_exporter": "python",
   "pygments_lexer": "ipython3",
   "version": "3.13.3"
  }
 },
 "nbformat": 4,
 "nbformat_minor": 5
}
